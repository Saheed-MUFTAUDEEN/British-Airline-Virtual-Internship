{
 "cells": [
  {
   "cell_type": "markdown",
   "id": "ca4eaa42",
   "metadata": {},
   "source": [
    "### Exploratory Data Analysis (EDA)"
   ]
  },
  {
   "cell_type": "code",
   "execution_count": 20,
   "id": "270274df",
   "metadata": {},
   "outputs": [],
   "source": [
    "#import libraries\n",
    "\n",
    "import numpy as np \n",
    "import pandas as pd \n",
    "\n",
    "import matplotlib.pyplot as plt \n",
    "import seaborn as sns \n",
    "import plotly.express as px  \n",
    "\n",
    "import datetime as dt\n",
    "\n",
    "from wordcloud import WordCloud, STOPWORDS"
   ]
  },
  {
   "cell_type": "code",
   "execution_count": 21,
   "id": "0b457878",
   "metadata": {},
   "outputs": [],
   "source": [
    "# loadin dataset \n",
    "\n",
    "df = pd.read_csv('Cleaned_BA-reviews.csv', index_col=0)"
   ]
  },
  {
   "cell_type": "code",
   "execution_count": 22,
   "id": "c5b7276f",
   "metadata": {},
   "outputs": [
    {
     "data": {
      "text/html": [
       "<div>\n",
       "<style scoped>\n",
       "    .dataframe tbody tr th:only-of-type {\n",
       "        vertical-align: middle;\n",
       "    }\n",
       "\n",
       "    .dataframe tbody tr th {\n",
       "        vertical-align: top;\n",
       "    }\n",
       "\n",
       "    .dataframe thead th {\n",
       "        text-align: right;\n",
       "    }\n",
       "</style>\n",
       "<table border=\"1\" class=\"dataframe\">\n",
       "  <thead>\n",
       "    <tr style=\"text-align: right;\">\n",
       "      <th></th>\n",
       "      <th>Reviews</th>\n",
       "      <th>Ratings</th>\n",
       "      <th>Date</th>\n",
       "      <th>Location</th>\n",
       "      <th>Trip_Verification</th>\n",
       "      <th>Cleaned_Reviews</th>\n",
       "    </tr>\n",
       "  </thead>\n",
       "  <tbody>\n",
       "    <tr>\n",
       "      <th>0</th>\n",
       "      <td>✅ Trip Verified |  Absolutely horrible experie...</td>\n",
       "      <td>5</td>\n",
       "      <td>2023-04-15</td>\n",
       "      <td>United States</td>\n",
       "      <td>True</td>\n",
       "      <td>absolutely horrible experience booked ticket e...</td>\n",
       "    </tr>\n",
       "    <tr>\n",
       "      <th>1</th>\n",
       "      <td>Not Verified |  This is the worst airline. Not...</td>\n",
       "      <td>1</td>\n",
       "      <td>2023-04-14</td>\n",
       "      <td>United Kingdom</td>\n",
       "      <td>False</td>\n",
       "      <td>verified worst airline one thing went right un...</td>\n",
       "    </tr>\n",
       "    <tr>\n",
       "      <th>2</th>\n",
       "      <td>✅ Trip Verified |  I will never fly British Ai...</td>\n",
       "      <td>1</td>\n",
       "      <td>2023-04-13</td>\n",
       "      <td>United States</td>\n",
       "      <td>True</td>\n",
       "      <td>never fly british airway start plane hour late...</td>\n",
       "    </tr>\n",
       "    <tr>\n",
       "      <th>3</th>\n",
       "      <td>✅ Trip Verified |  Worst aircraft I have ever ...</td>\n",
       "      <td>2</td>\n",
       "      <td>2023-04-12</td>\n",
       "      <td>United Kingdom</td>\n",
       "      <td>True</td>\n",
       "      <td>worst aircraft ever flown seat cramped uncomfo...</td>\n",
       "    </tr>\n",
       "    <tr>\n",
       "      <th>4</th>\n",
       "      <td>✅ Trip Verified |  I enjoyed my flight. The bo...</td>\n",
       "      <td>1</td>\n",
       "      <td>2023-04-11</td>\n",
       "      <td>United Kingdom</td>\n",
       "      <td>True</td>\n",
       "      <td>enjoyed flight boarding swift service friendly...</td>\n",
       "    </tr>\n",
       "  </tbody>\n",
       "</table>\n",
       "</div>"
      ],
      "text/plain": [
       "                                             Reviews  Ratings        Date  \\\n",
       "0  ✅ Trip Verified |  Absolutely horrible experie...        5  2023-04-15   \n",
       "1  Not Verified |  This is the worst airline. Not...        1  2023-04-14   \n",
       "2  ✅ Trip Verified |  I will never fly British Ai...        1  2023-04-13   \n",
       "3  ✅ Trip Verified |  Worst aircraft I have ever ...        2  2023-04-12   \n",
       "4  ✅ Trip Verified |  I enjoyed my flight. The bo...        1  2023-04-11   \n",
       "\n",
       "           Location  Trip_Verification  \\\n",
       "0    United States                True   \n",
       "1   United Kingdom               False   \n",
       "2    United States                True   \n",
       "3   United Kingdom                True   \n",
       "4   United Kingdom                True   \n",
       "\n",
       "                                     Cleaned_Reviews  \n",
       "0  absolutely horrible experience booked ticket e...  \n",
       "1  verified worst airline one thing went right un...  \n",
       "2  never fly british airway start plane hour late...  \n",
       "3  worst aircraft ever flown seat cramped uncomfo...  \n",
       "4  enjoyed flight boarding swift service friendly...  "
      ]
     },
     "execution_count": 22,
     "metadata": {},
     "output_type": "execute_result"
    }
   ],
   "source": [
    "df.head()"
   ]
  },
  {
   "cell_type": "code",
   "execution_count": null,
   "id": "f781ab57",
   "metadata": {},
   "outputs": [],
   "source": []
  }
 ],
 "metadata": {
  "kernelspec": {
   "display_name": "Python 3",
   "language": "python",
   "name": "python3"
  },
  "language_info": {
   "codemirror_mode": {
    "name": "ipython",
    "version": 3
   },
   "file_extension": ".py",
   "mimetype": "text/x-python",
   "name": "python",
   "nbconvert_exporter": "python",
   "pygments_lexer": "ipython3",
   "version": "3.8.8"
  }
 },
 "nbformat": 4,
 "nbformat_minor": 5
}
