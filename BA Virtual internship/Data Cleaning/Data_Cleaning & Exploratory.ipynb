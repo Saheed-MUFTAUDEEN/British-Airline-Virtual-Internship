{
 "cells": [
  {
   "cell_type": "markdown",
   "id": "a7eb5480",
   "metadata": {},
   "source": [
    "### Data Cleaning \n",
    "\n",
    "The data scrapped was very messy and there is need for data cleaning in order to prepare the data for analysis."
   ]
  },
  {
   "cell_type": "code",
   "execution_count": 45,
   "id": "d43500c9",
   "metadata": {},
   "outputs": [],
   "source": [
    "#import libraries \n",
    "import pandas as pd \n",
    "import numpy as np\n",
    "\n",
    "#import regex\n",
    "import re"
   ]
  },
  {
   "cell_type": "code",
   "execution_count": 46,
   "id": "fb551212",
   "metadata": {},
   "outputs": [],
   "source": [
    "# create a datframe for data\n",
    "df = pd.read_csv('BA_reviews.csv', index_col= 0)"
   ]
  },
  {
   "cell_type": "code",
   "execution_count": 47,
   "id": "2330e12f",
   "metadata": {},
   "outputs": [
    {
     "data": {
      "text/html": [
       "<div>\n",
       "<style scoped>\n",
       "    .dataframe tbody tr th:only-of-type {\n",
       "        vertical-align: middle;\n",
       "    }\n",
       "\n",
       "    .dataframe tbody tr th {\n",
       "        vertical-align: top;\n",
       "    }\n",
       "\n",
       "    .dataframe thead th {\n",
       "        text-align: right;\n",
       "    }\n",
       "</style>\n",
       "<table border=\"1\" class=\"dataframe\">\n",
       "  <thead>\n",
       "    <tr style=\"text-align: right;\">\n",
       "      <th></th>\n",
       "      <th>Reviews</th>\n",
       "      <th>Ratings</th>\n",
       "      <th>Date</th>\n",
       "      <th>Location</th>\n",
       "    </tr>\n",
       "  </thead>\n",
       "  <tbody>\n",
       "    <tr>\n",
       "      <th>0</th>\n",
       "      <td>✅ Trip Verified |  Absolutely horrible experie...</td>\n",
       "      <td>5</td>\n",
       "      <td>15th April 2023</td>\n",
       "      <td>(United States)</td>\n",
       "    </tr>\n",
       "    <tr>\n",
       "      <th>1</th>\n",
       "      <td>Not Verified |  This is the worst airline. Not...</td>\n",
       "      <td>1</td>\n",
       "      <td>14th April 2023</td>\n",
       "      <td>(United Kingdom)</td>\n",
       "    </tr>\n",
       "    <tr>\n",
       "      <th>2</th>\n",
       "      <td>✅ Trip Verified |  I will never fly British Ai...</td>\n",
       "      <td>1</td>\n",
       "      <td>13th April 2023</td>\n",
       "      <td>(United States)</td>\n",
       "    </tr>\n",
       "    <tr>\n",
       "      <th>3</th>\n",
       "      <td>✅ Trip Verified |  Worst aircraft I have ever ...</td>\n",
       "      <td>2</td>\n",
       "      <td>12th April 2023</td>\n",
       "      <td>(United Kingdom)</td>\n",
       "    </tr>\n",
       "    <tr>\n",
       "      <th>4</th>\n",
       "      <td>✅ Trip Verified |  I enjoyed my flight. The bo...</td>\n",
       "      <td>1</td>\n",
       "      <td>11th April 2023</td>\n",
       "      <td>(United Kingdom)</td>\n",
       "    </tr>\n",
       "  </tbody>\n",
       "</table>\n",
       "</div>"
      ],
      "text/plain": [
       "                                             Reviews  Ratings  \\\n",
       "0  ✅ Trip Verified |  Absolutely horrible experie...        5   \n",
       "1  Not Verified |  This is the worst airline. Not...        1   \n",
       "2  ✅ Trip Verified |  I will never fly British Ai...        1   \n",
       "3  ✅ Trip Verified |  Worst aircraft I have ever ...        2   \n",
       "4  ✅ Trip Verified |  I enjoyed my flight. The bo...        1   \n",
       "\n",
       "              Date            Location  \n",
       "0  15th April 2023    (United States)   \n",
       "1  14th April 2023   (United Kingdom)   \n",
       "2  13th April 2023    (United States)   \n",
       "3  12th April 2023   (United Kingdom)   \n",
       "4  11th April 2023   (United Kingdom)   "
      ]
     },
     "execution_count": 47,
     "metadata": {},
     "output_type": "execute_result"
    }
   ],
   "source": [
    "df.head()"
   ]
  },
  {
   "cell_type": "code",
   "execution_count": 48,
   "id": "ab6e58ab",
   "metadata": {},
   "outputs": [],
   "source": [
    "#create a seperate column for trip verification\n",
    "df[\"Trip_Verification\"] = df['Reviews'].str.contains('Trip Verified')"
   ]
  },
  {
   "cell_type": "code",
   "execution_count": 49,
   "id": "59fa6635",
   "metadata": {},
   "outputs": [
    {
     "data": {
      "text/plain": [
       "0        True\n",
       "1       False\n",
       "2        True\n",
       "3        True\n",
       "4        True\n",
       "        ...  \n",
       "2995    False\n",
       "2996    False\n",
       "2997    False\n",
       "2998    False\n",
       "2999    False\n",
       "Name: Trip_Verification, Length: 3000, dtype: bool"
      ]
     },
     "execution_count": 49,
     "metadata": {},
     "output_type": "execute_result"
    }
   ],
   "source": [
    "df['Trip_Verification']"
   ]
  },
  {
   "cell_type": "code",
   "execution_count": 50,
   "id": "d5f53e84",
   "metadata": {},
   "outputs": [
    {
     "data": {
      "text/html": [
       "<div>\n",
       "<style scoped>\n",
       "    .dataframe tbody tr th:only-of-type {\n",
       "        vertical-align: middle;\n",
       "    }\n",
       "\n",
       "    .dataframe tbody tr th {\n",
       "        vertical-align: top;\n",
       "    }\n",
       "\n",
       "    .dataframe thead th {\n",
       "        text-align: right;\n",
       "    }\n",
       "</style>\n",
       "<table border=\"1\" class=\"dataframe\">\n",
       "  <thead>\n",
       "    <tr style=\"text-align: right;\">\n",
       "      <th></th>\n",
       "      <th>Reviews</th>\n",
       "      <th>Ratings</th>\n",
       "      <th>Date</th>\n",
       "      <th>Location</th>\n",
       "      <th>Trip_Verification</th>\n",
       "    </tr>\n",
       "  </thead>\n",
       "  <tbody>\n",
       "    <tr>\n",
       "      <th>0</th>\n",
       "      <td>✅ Trip Verified |  Absolutely horrible experie...</td>\n",
       "      <td>5</td>\n",
       "      <td>15th April 2023</td>\n",
       "      <td>(United States)</td>\n",
       "      <td>True</td>\n",
       "    </tr>\n",
       "    <tr>\n",
       "      <th>1</th>\n",
       "      <td>Not Verified |  This is the worst airline. Not...</td>\n",
       "      <td>1</td>\n",
       "      <td>14th April 2023</td>\n",
       "      <td>(United Kingdom)</td>\n",
       "      <td>False</td>\n",
       "    </tr>\n",
       "    <tr>\n",
       "      <th>2</th>\n",
       "      <td>✅ Trip Verified |  I will never fly British Ai...</td>\n",
       "      <td>1</td>\n",
       "      <td>13th April 2023</td>\n",
       "      <td>(United States)</td>\n",
       "      <td>True</td>\n",
       "    </tr>\n",
       "    <tr>\n",
       "      <th>3</th>\n",
       "      <td>✅ Trip Verified |  Worst aircraft I have ever ...</td>\n",
       "      <td>2</td>\n",
       "      <td>12th April 2023</td>\n",
       "      <td>(United Kingdom)</td>\n",
       "      <td>True</td>\n",
       "    </tr>\n",
       "    <tr>\n",
       "      <th>4</th>\n",
       "      <td>✅ Trip Verified |  I enjoyed my flight. The bo...</td>\n",
       "      <td>1</td>\n",
       "      <td>11th April 2023</td>\n",
       "      <td>(United Kingdom)</td>\n",
       "      <td>True</td>\n",
       "    </tr>\n",
       "  </tbody>\n",
       "</table>\n",
       "</div>"
      ],
      "text/plain": [
       "                                             Reviews  Ratings  \\\n",
       "0  ✅ Trip Verified |  Absolutely horrible experie...        5   \n",
       "1  Not Verified |  This is the worst airline. Not...        1   \n",
       "2  ✅ Trip Verified |  I will never fly British Ai...        1   \n",
       "3  ✅ Trip Verified |  Worst aircraft I have ever ...        2   \n",
       "4  ✅ Trip Verified |  I enjoyed my flight. The bo...        1   \n",
       "\n",
       "              Date            Location  Trip_Verification  \n",
       "0  15th April 2023    (United States)                True  \n",
       "1  14th April 2023   (United Kingdom)               False  \n",
       "2  13th April 2023    (United States)                True  \n",
       "3  12th April 2023   (United Kingdom)                True  \n",
       "4  11th April 2023   (United Kingdom)                True  "
      ]
     },
     "execution_count": 50,
     "metadata": {},
     "output_type": "execute_result"
    }
   ],
   "source": [
    "df.head()"
   ]
  },
  {
   "cell_type": "markdown",
   "id": "c80a4810",
   "metadata": {},
   "source": [
    "### Cleaning Reviews Column\n",
    "\n",
    "For this purpose, I extract the reviews into a seperate dataframe and clean it for semantic analysis"
   ]
  },
  {
   "cell_type": "code",
   "execution_count": 51,
   "id": "9fe2bf31",
   "metadata": {},
   "outputs": [
    {
     "name": "stderr",
     "output_type": "stream",
     "text": [
      "[nltk_data] Downloading package stopwords to\n",
      "[nltk_data]     C:\\Users\\l-admin\\AppData\\Roaming\\nltk_data...\n",
      "[nltk_data]   Package stopwords is already up-to-date!\n",
      "[nltk_data] Downloading package wordnet to\n",
      "[nltk_data]     C:\\Users\\l-admin\\AppData\\Roaming\\nltk_data...\n",
      "[nltk_data]   Package wordnet is already up-to-date!\n"
     ]
    },
    {
     "data": {
      "text/plain": [
       "True"
      ]
     },
     "execution_count": 51,
     "metadata": {},
     "output_type": "execute_result"
    }
   ],
   "source": [
    "import nltk\n",
    "nltk.download('stopwords')\n",
    "nltk.download('wordnet')"
   ]
  },
  {
   "cell_type": "code",
   "execution_count": 64,
   "id": "2176f2ed",
   "metadata": {},
   "outputs": [],
   "source": [
    "from nltk.stem  import WordNetLemmatizer\n",
    "from nltk.corpus import stopwords\n",
    "lemma = WordNetLemmatizer()\n",
    "\n",
    "df['Cleaned_Reviews'] = df['Reviews'].str.strip(\"✅ Trip Verified |\")\n",
    "df['Cleaned_Reviews'] = df['Cleaned_Reviews'].apply(lambda x: re.sub('[^a-zA-Z]',' ', x))\n",
    "df['Cleaned_Reviews'] = df['Cleaned_Reviews'].str.lower()\n",
    "df['Cleaned_Reviews'] = df['Cleaned_Reviews'].apply(lambda x: x.split())\n",
    "df['Cleaned_Reviews'] = [[lemma.lemmatize(word) for word in review if word not in set(stopwords.words(\"english\"))] for review in df['Cleaned_Reviews']]\n",
    "df['Cleaned_Reviews'] = df['Cleaned_Reviews'].apply(lambda x: \" \".join(x))"
   ]
  },
  {
   "cell_type": "code",
   "execution_count": 65,
   "id": "c598aa53",
   "metadata": {},
   "outputs": [
    {
     "data": {
      "text/html": [
       "<div>\n",
       "<style scoped>\n",
       "    .dataframe tbody tr th:only-of-type {\n",
       "        vertical-align: middle;\n",
       "    }\n",
       "\n",
       "    .dataframe tbody tr th {\n",
       "        vertical-align: top;\n",
       "    }\n",
       "\n",
       "    .dataframe thead th {\n",
       "        text-align: right;\n",
       "    }\n",
       "</style>\n",
       "<table border=\"1\" class=\"dataframe\">\n",
       "  <thead>\n",
       "    <tr style=\"text-align: right;\">\n",
       "      <th></th>\n",
       "      <th>Reviews</th>\n",
       "      <th>Ratings</th>\n",
       "      <th>Date</th>\n",
       "      <th>Location</th>\n",
       "      <th>Trip_Verification</th>\n",
       "      <th>Cleaned_Reviews</th>\n",
       "    </tr>\n",
       "  </thead>\n",
       "  <tbody>\n",
       "    <tr>\n",
       "      <th>0</th>\n",
       "      <td>✅ Trip Verified |  Absolutely horrible experie...</td>\n",
       "      <td>5</td>\n",
       "      <td>15th April 2023</td>\n",
       "      <td>(United States)</td>\n",
       "      <td>True</td>\n",
       "      <td>absolutely horrible experience booked ticket e...</td>\n",
       "    </tr>\n",
       "    <tr>\n",
       "      <th>1</th>\n",
       "      <td>Not Verified |  This is the worst airline. Not...</td>\n",
       "      <td>1</td>\n",
       "      <td>14th April 2023</td>\n",
       "      <td>(United Kingdom)</td>\n",
       "      <td>False</td>\n",
       "      <td>verified worst airline one thing went right un...</td>\n",
       "    </tr>\n",
       "    <tr>\n",
       "      <th>2</th>\n",
       "      <td>✅ Trip Verified |  I will never fly British Ai...</td>\n",
       "      <td>1</td>\n",
       "      <td>13th April 2023</td>\n",
       "      <td>(United States)</td>\n",
       "      <td>True</td>\n",
       "      <td>never fly british airway start plane hour late...</td>\n",
       "    </tr>\n",
       "    <tr>\n",
       "      <th>3</th>\n",
       "      <td>✅ Trip Verified |  Worst aircraft I have ever ...</td>\n",
       "      <td>2</td>\n",
       "      <td>12th April 2023</td>\n",
       "      <td>(United Kingdom)</td>\n",
       "      <td>True</td>\n",
       "      <td>worst aircraft ever flown seat cramped uncomfo...</td>\n",
       "    </tr>\n",
       "    <tr>\n",
       "      <th>4</th>\n",
       "      <td>✅ Trip Verified |  I enjoyed my flight. The bo...</td>\n",
       "      <td>1</td>\n",
       "      <td>11th April 2023</td>\n",
       "      <td>(United Kingdom)</td>\n",
       "      <td>True</td>\n",
       "      <td>enjoyed flight boarding swift service friendly...</td>\n",
       "    </tr>\n",
       "  </tbody>\n",
       "</table>\n",
       "</div>"
      ],
      "text/plain": [
       "                                             Reviews  Ratings  \\\n",
       "0  ✅ Trip Verified |  Absolutely horrible experie...        5   \n",
       "1  Not Verified |  This is the worst airline. Not...        1   \n",
       "2  ✅ Trip Verified |  I will never fly British Ai...        1   \n",
       "3  ✅ Trip Verified |  Worst aircraft I have ever ...        2   \n",
       "4  ✅ Trip Verified |  I enjoyed my flight. The bo...        1   \n",
       "\n",
       "              Date            Location  Trip_Verification  \\\n",
       "0  15th April 2023    (United States)                True   \n",
       "1  14th April 2023   (United Kingdom)               False   \n",
       "2  13th April 2023    (United States)                True   \n",
       "3  12th April 2023   (United Kingdom)                True   \n",
       "4  11th April 2023   (United Kingdom)                True   \n",
       "\n",
       "                                     Cleaned_Reviews  \n",
       "0  absolutely horrible experience booked ticket e...  \n",
       "1  verified worst airline one thing went right un...  \n",
       "2  never fly british airway start plane hour late...  \n",
       "3  worst aircraft ever flown seat cramped uncomfo...  \n",
       "4  enjoyed flight boarding swift service friendly...  "
      ]
     },
     "execution_count": 65,
     "metadata": {},
     "output_type": "execute_result"
    }
   ],
   "source": [
    "df.head()"
   ]
  },
  {
   "cell_type": "markdown",
   "id": "cb2f17a4",
   "metadata": {},
   "source": [
    "### Cleaning / Format date"
   ]
  },
  {
   "cell_type": "code",
   "execution_count": 68,
   "id": "887fb5bf",
   "metadata": {},
   "outputs": [
    {
     "data": {
      "text/plain": [
       "Reviews              object\n",
       "Ratings               int64\n",
       "Date                 object\n",
       "Location             object\n",
       "Trip_Verification      bool\n",
       "Cleaned_Reviews      object\n",
       "dtype: object"
      ]
     },
     "execution_count": 68,
     "metadata": {},
     "output_type": "execute_result"
    }
   ],
   "source": [
    "df.dtypes"
   ]
  },
  {
   "cell_type": "code",
   "execution_count": 69,
   "id": "c5b9c456",
   "metadata": {},
   "outputs": [],
   "source": [
    "df['Date'] = pd.to_datetime(df['Date'])"
   ]
  },
  {
   "cell_type": "code",
   "execution_count": 70,
   "id": "8838f51d",
   "metadata": {},
   "outputs": [
    {
     "data": {
      "text/plain": [
       "0   2023-04-15\n",
       "1   2023-04-14\n",
       "2   2023-04-13\n",
       "3   2023-04-12\n",
       "4   2023-04-11\n",
       "Name: Date, dtype: datetime64[ns]"
      ]
     },
     "execution_count": 70,
     "metadata": {},
     "output_type": "execute_result"
    }
   ],
   "source": [
    "df['Date'].head()"
   ]
  },
  {
   "cell_type": "markdown",
   "id": "2a35790b",
   "metadata": {},
   "source": [
    "### Cleaning Ratings column "
   ]
  },
  {
   "cell_type": "code",
   "execution_count": 75,
   "id": "d852e979",
   "metadata": {},
   "outputs": [
    {
     "data": {
      "text/plain": [
       "array([ 5,  1,  2,  9,  7,  4,  3, 10,  8,  6], dtype=int64)"
      ]
     },
     "execution_count": 75,
     "metadata": {},
     "output_type": "execute_result"
    }
   ],
   "source": [
    "df.Ratings.unique()"
   ]
  },
  {
   "cell_type": "code",
   "execution_count": 76,
   "id": "d3e25190",
   "metadata": {},
   "outputs": [
    {
     "data": {
      "text/plain": [
       "1     707\n",
       "2     352\n",
       "3     352\n",
       "8     292\n",
       "7     250\n",
       "10    240\n",
       "9     237\n",
       "5     218\n",
       "4     207\n",
       "6     145\n",
       "Name: Ratings, dtype: int64"
      ]
     },
     "execution_count": 76,
     "metadata": {},
     "output_type": "execute_result"
    }
   ],
   "source": [
    "df.Ratings.value_counts()"
   ]
  },
  {
   "cell_type": "markdown",
   "id": "f6c352f7",
   "metadata": {},
   "source": [
    "### Cleaning the location column "
   ]
  },
  {
   "cell_type": "code",
   "execution_count": 84,
   "id": "df817db0",
   "metadata": {},
   "outputs": [],
   "source": [
    "df['Location'] = df['Location'].apply(lambda x: x.replace('(', '').replace(')', ''))"
   ]
  },
  {
   "cell_type": "code",
   "execution_count": 86,
   "id": "f466e0d5",
   "metadata": {},
   "outputs": [
    {
     "data": {
      "text/html": [
       "<div>\n",
       "<style scoped>\n",
       "    .dataframe tbody tr th:only-of-type {\n",
       "        vertical-align: middle;\n",
       "    }\n",
       "\n",
       "    .dataframe tbody tr th {\n",
       "        vertical-align: top;\n",
       "    }\n",
       "\n",
       "    .dataframe thead th {\n",
       "        text-align: right;\n",
       "    }\n",
       "</style>\n",
       "<table border=\"1\" class=\"dataframe\">\n",
       "  <thead>\n",
       "    <tr style=\"text-align: right;\">\n",
       "      <th></th>\n",
       "      <th>Reviews</th>\n",
       "      <th>Ratings</th>\n",
       "      <th>Date</th>\n",
       "      <th>Location</th>\n",
       "      <th>Trip_Verification</th>\n",
       "      <th>Cleaned_Reviews</th>\n",
       "    </tr>\n",
       "  </thead>\n",
       "  <tbody>\n",
       "    <tr>\n",
       "      <th>0</th>\n",
       "      <td>✅ Trip Verified |  Absolutely horrible experie...</td>\n",
       "      <td>5</td>\n",
       "      <td>2023-04-15</td>\n",
       "      <td>United States</td>\n",
       "      <td>True</td>\n",
       "      <td>absolutely horrible experience booked ticket e...</td>\n",
       "    </tr>\n",
       "    <tr>\n",
       "      <th>1</th>\n",
       "      <td>Not Verified |  This is the worst airline. Not...</td>\n",
       "      <td>1</td>\n",
       "      <td>2023-04-14</td>\n",
       "      <td>United Kingdom</td>\n",
       "      <td>False</td>\n",
       "      <td>verified worst airline one thing went right un...</td>\n",
       "    </tr>\n",
       "    <tr>\n",
       "      <th>2</th>\n",
       "      <td>✅ Trip Verified |  I will never fly British Ai...</td>\n",
       "      <td>1</td>\n",
       "      <td>2023-04-13</td>\n",
       "      <td>United States</td>\n",
       "      <td>True</td>\n",
       "      <td>never fly british airway start plane hour late...</td>\n",
       "    </tr>\n",
       "    <tr>\n",
       "      <th>3</th>\n",
       "      <td>✅ Trip Verified |  Worst aircraft I have ever ...</td>\n",
       "      <td>2</td>\n",
       "      <td>2023-04-12</td>\n",
       "      <td>United Kingdom</td>\n",
       "      <td>True</td>\n",
       "      <td>worst aircraft ever flown seat cramped uncomfo...</td>\n",
       "    </tr>\n",
       "    <tr>\n",
       "      <th>4</th>\n",
       "      <td>✅ Trip Verified |  I enjoyed my flight. The bo...</td>\n",
       "      <td>1</td>\n",
       "      <td>2023-04-11</td>\n",
       "      <td>United Kingdom</td>\n",
       "      <td>True</td>\n",
       "      <td>enjoyed flight boarding swift service friendly...</td>\n",
       "    </tr>\n",
       "  </tbody>\n",
       "</table>\n",
       "</div>"
      ],
      "text/plain": [
       "                                             Reviews  Ratings       Date  \\\n",
       "0  ✅ Trip Verified |  Absolutely horrible experie...        5 2023-04-15   \n",
       "1  Not Verified |  This is the worst airline. Not...        1 2023-04-14   \n",
       "2  ✅ Trip Verified |  I will never fly British Ai...        1 2023-04-13   \n",
       "3  ✅ Trip Verified |  Worst aircraft I have ever ...        2 2023-04-12   \n",
       "4  ✅ Trip Verified |  I enjoyed my flight. The bo...        1 2023-04-11   \n",
       "\n",
       "           Location  Trip_Verification  \\\n",
       "0    United States                True   \n",
       "1   United Kingdom               False   \n",
       "2    United States                True   \n",
       "3   United Kingdom                True   \n",
       "4   United Kingdom                True   \n",
       "\n",
       "                                     Cleaned_Reviews  \n",
       "0  absolutely horrible experience booked ticket e...  \n",
       "1  verified worst airline one thing went right un...  \n",
       "2  never fly british airway start plane hour late...  \n",
       "3  worst aircraft ever flown seat cramped uncomfo...  \n",
       "4  enjoyed flight boarding swift service friendly...  "
      ]
     },
     "execution_count": 86,
     "metadata": {},
     "output_type": "execute_result"
    }
   ],
   "source": [
    "df.head()"
   ]
  },
  {
   "cell_type": "markdown",
   "id": "a8a97ed8",
   "metadata": {},
   "source": [
    "### Check for null values "
   ]
  },
  {
   "cell_type": "code",
   "execution_count": 88,
   "id": "dd6dfc1e",
   "metadata": {},
   "outputs": [
    {
     "data": {
      "text/plain": [
       "Reviews              0\n",
       "Ratings              0\n",
       "Date                 0\n",
       "Location             0\n",
       "Trip_Verification    0\n",
       "Cleaned_Reviews      0\n",
       "dtype: int64"
      ]
     },
     "execution_count": 88,
     "metadata": {},
     "output_type": "execute_result"
    }
   ],
   "source": [
    "df.isnull().sum()"
   ]
  },
  {
   "cell_type": "code",
   "execution_count": 89,
   "id": "d22ec65f",
   "metadata": {},
   "outputs": [
    {
     "data": {
      "text/plain": [
       "(3000, 6)"
      ]
     },
     "execution_count": 89,
     "metadata": {},
     "output_type": "execute_result"
    }
   ],
   "source": [
    "df.shape"
   ]
  },
  {
   "cell_type": "code",
   "execution_count": 90,
   "id": "6d399466",
   "metadata": {},
   "outputs": [
    {
     "data": {
      "text/html": [
       "<div>\n",
       "<style scoped>\n",
       "    .dataframe tbody tr th:only-of-type {\n",
       "        vertical-align: middle;\n",
       "    }\n",
       "\n",
       "    .dataframe tbody tr th {\n",
       "        vertical-align: top;\n",
       "    }\n",
       "\n",
       "    .dataframe thead th {\n",
       "        text-align: right;\n",
       "    }\n",
       "</style>\n",
       "<table border=\"1\" class=\"dataframe\">\n",
       "  <thead>\n",
       "    <tr style=\"text-align: right;\">\n",
       "      <th></th>\n",
       "      <th>Reviews</th>\n",
       "      <th>Ratings</th>\n",
       "      <th>Date</th>\n",
       "      <th>Location</th>\n",
       "      <th>Trip_Verification</th>\n",
       "      <th>Cleaned_Reviews</th>\n",
       "    </tr>\n",
       "  </thead>\n",
       "  <tbody>\n",
       "    <tr>\n",
       "      <th>0</th>\n",
       "      <td>✅ Trip Verified |  Absolutely horrible experie...</td>\n",
       "      <td>5</td>\n",
       "      <td>2023-04-15</td>\n",
       "      <td>United States</td>\n",
       "      <td>True</td>\n",
       "      <td>absolutely horrible experience booked ticket e...</td>\n",
       "    </tr>\n",
       "    <tr>\n",
       "      <th>1</th>\n",
       "      <td>Not Verified |  This is the worst airline. Not...</td>\n",
       "      <td>1</td>\n",
       "      <td>2023-04-14</td>\n",
       "      <td>United Kingdom</td>\n",
       "      <td>False</td>\n",
       "      <td>verified worst airline one thing went right un...</td>\n",
       "    </tr>\n",
       "    <tr>\n",
       "      <th>2</th>\n",
       "      <td>✅ Trip Verified |  I will never fly British Ai...</td>\n",
       "      <td>1</td>\n",
       "      <td>2023-04-13</td>\n",
       "      <td>United States</td>\n",
       "      <td>True</td>\n",
       "      <td>never fly british airway start plane hour late...</td>\n",
       "    </tr>\n",
       "    <tr>\n",
       "      <th>3</th>\n",
       "      <td>✅ Trip Verified |  Worst aircraft I have ever ...</td>\n",
       "      <td>2</td>\n",
       "      <td>2023-04-12</td>\n",
       "      <td>United Kingdom</td>\n",
       "      <td>True</td>\n",
       "      <td>worst aircraft ever flown seat cramped uncomfo...</td>\n",
       "    </tr>\n",
       "    <tr>\n",
       "      <th>4</th>\n",
       "      <td>✅ Trip Verified |  I enjoyed my flight. The bo...</td>\n",
       "      <td>1</td>\n",
       "      <td>2023-04-11</td>\n",
       "      <td>United Kingdom</td>\n",
       "      <td>True</td>\n",
       "      <td>enjoyed flight boarding swift service friendly...</td>\n",
       "    </tr>\n",
       "    <tr>\n",
       "      <th>...</th>\n",
       "      <td>...</td>\n",
       "      <td>...</td>\n",
       "      <td>...</td>\n",
       "      <td>...</td>\n",
       "      <td>...</td>\n",
       "      <td>...</td>\n",
       "    </tr>\n",
       "    <tr>\n",
       "      <th>2995</th>\n",
       "      <td>Regularly travel from BCN to LHR. In addition ...</td>\n",
       "      <td>7</td>\n",
       "      <td>2015-01-19</td>\n",
       "      <td>Spain</td>\n",
       "      <td>False</td>\n",
       "      <td>regularly travel bcn lhr addition booting u ma...</td>\n",
       "    </tr>\n",
       "    <tr>\n",
       "      <th>2996</th>\n",
       "      <td>I have not travelled with BA for almost 7 year...</td>\n",
       "      <td>8</td>\n",
       "      <td>2015-01-19</td>\n",
       "      <td>United Kingdom</td>\n",
       "      <td>False</td>\n",
       "      <td>travelled ba almost year result moving asia us...</td>\n",
       "    </tr>\n",
       "    <tr>\n",
       "      <th>2997</th>\n",
       "      <td>Flew Miami to Heathrow it was a nightmare the ...</td>\n",
       "      <td>9</td>\n",
       "      <td>2015-01-19</td>\n",
       "      <td>United Kingdom</td>\n",
       "      <td>False</td>\n",
       "      <td>flew miami heathrow nightmare attendant watche...</td>\n",
       "    </tr>\n",
       "    <tr>\n",
       "      <th>2998</th>\n",
       "      <td>LHR to HKG in Club - 777-300ER. Lovely newish ...</td>\n",
       "      <td>9</td>\n",
       "      <td>2015-01-19</td>\n",
       "      <td>United Kingdom</td>\n",
       "      <td>False</td>\n",
       "      <td>lhr hkg club er lovely newish plane attentive ...</td>\n",
       "    </tr>\n",
       "    <tr>\n",
       "      <th>2999</th>\n",
       "      <td>Cairo-LHR-SFO-LHR: Overall BA are suffering fr...</td>\n",
       "      <td>5</td>\n",
       "      <td>2015-01-19</td>\n",
       "      <td>United Kingdom</td>\n",
       "      <td>False</td>\n",
       "      <td>cairo lhr sfo lhr overall ba suffering fleet d...</td>\n",
       "    </tr>\n",
       "  </tbody>\n",
       "</table>\n",
       "<p>3000 rows × 6 columns</p>\n",
       "</div>"
      ],
      "text/plain": [
       "                                                Reviews  Ratings       Date  \\\n",
       "0     ✅ Trip Verified |  Absolutely horrible experie...        5 2023-04-15   \n",
       "1     Not Verified |  This is the worst airline. Not...        1 2023-04-14   \n",
       "2     ✅ Trip Verified |  I will never fly British Ai...        1 2023-04-13   \n",
       "3     ✅ Trip Verified |  Worst aircraft I have ever ...        2 2023-04-12   \n",
       "4     ✅ Trip Verified |  I enjoyed my flight. The bo...        1 2023-04-11   \n",
       "...                                                 ...      ...        ...   \n",
       "2995  Regularly travel from BCN to LHR. In addition ...        7 2015-01-19   \n",
       "2996  I have not travelled with BA for almost 7 year...        8 2015-01-19   \n",
       "2997  Flew Miami to Heathrow it was a nightmare the ...        9 2015-01-19   \n",
       "2998  LHR to HKG in Club - 777-300ER. Lovely newish ...        9 2015-01-19   \n",
       "2999  Cairo-LHR-SFO-LHR: Overall BA are suffering fr...        5 2015-01-19   \n",
       "\n",
       "              Location  Trip_Verification  \\\n",
       "0       United States                True   \n",
       "1      United Kingdom               False   \n",
       "2       United States                True   \n",
       "3      United Kingdom                True   \n",
       "4      United Kingdom                True   \n",
       "...                ...                ...   \n",
       "2995            Spain               False   \n",
       "2996   United Kingdom               False   \n",
       "2997   United Kingdom               False   \n",
       "2998   United Kingdom               False   \n",
       "2999   United Kingdom               False   \n",
       "\n",
       "                                        Cleaned_Reviews  \n",
       "0     absolutely horrible experience booked ticket e...  \n",
       "1     verified worst airline one thing went right un...  \n",
       "2     never fly british airway start plane hour late...  \n",
       "3     worst aircraft ever flown seat cramped uncomfo...  \n",
       "4     enjoyed flight boarding swift service friendly...  \n",
       "...                                                 ...  \n",
       "2995  regularly travel bcn lhr addition booting u ma...  \n",
       "2996  travelled ba almost year result moving asia us...  \n",
       "2997  flew miami heathrow nightmare attendant watche...  \n",
       "2998  lhr hkg club er lovely newish plane attentive ...  \n",
       "2999  cairo lhr sfo lhr overall ba suffering fleet d...  \n",
       "\n",
       "[3000 rows x 6 columns]"
      ]
     },
     "execution_count": 90,
     "metadata": {},
     "output_type": "execute_result"
    }
   ],
   "source": [
    "#resetting the index\n",
    "df.reset_index(drop=True)"
   ]
  },
  {
   "cell_type": "markdown",
   "id": "469a2f93",
   "metadata": {},
   "source": [
    "Now that our dataset has been cleaned, it's ready for visualization "
   ]
  },
  {
   "cell_type": "markdown",
   "id": "e377818a",
   "metadata": {},
   "source": [
    "### Save the cleaned dataset"
   ]
  },
  {
   "cell_type": "code",
   "execution_count": 91,
   "id": "ee2b8ef7",
   "metadata": {},
   "outputs": [],
   "source": [
    "#save to csv\n",
    "df.to_csv('Cleaned_BA-reviews.csv')"
   ]
  },
  {
   "cell_type": "code",
   "execution_count": null,
   "id": "63da9670",
   "metadata": {},
   "outputs": [],
   "source": []
  }
 ],
 "metadata": {
  "kernelspec": {
   "display_name": "Python 3",
   "language": "python",
   "name": "python3"
  },
  "language_info": {
   "codemirror_mode": {
    "name": "ipython",
    "version": 3
   },
   "file_extension": ".py",
   "mimetype": "text/x-python",
   "name": "python",
   "nbconvert_exporter": "python",
   "pygments_lexer": "ipython3",
   "version": "3.8.8"
  }
 },
 "nbformat": 4,
 "nbformat_minor": 5
}
